{
 "cells": [
  {
   "cell_type": "markdown",
   "metadata": {},
   "source": [
    "# SciPy入门[01]——简介\n",
    "> 参考：\n",
    ">\n",
    "> + [https://ailearning.apachecn.org/](https://ailearning.apachecn.org/)\n",
    "> + [SciPy官网](https://docs.scipy.org/doc/scipy)\n",
    ">\n",
    "> 使用Jupyter进行练习\n",
    "\n",
    "![image-20221205105840148](https://note-image-1307786938.cos.ap-beijing.myqcloud.com/typora/image-20221205105840148.png)"
   ]
  },
  {
   "cell_type": "markdown",
   "metadata": {},
   "source": [
    "SciPy是一个建立在Python的NumPy扩展上的数学算法和便利函数的集合。它通过为用户提供操作和可视化数据的高级命令和类，为交互式Python会话增加了巨大的力量。有了SciPy，交互式Python会话就变成了一个可以与MATLAB、IDL、Octave、R-Lab和SciLab等系统相媲美的数据处理和系统原型设计环境。\n",
    "\n",
    "**`Scipy`** 由不同科学计算领域的子模块组成：\n",
    "\n",
    "| 子模块        | 描述                 |\n",
    "| ------------- | -------------------- |\n",
    "| `cluster`     | 聚类算法             |\n",
    "| `constants`   | 物理数学常数         |\n",
    "| `fftpack`     | 快速傅里叶变换       |\n",
    "| `integrate`   | 积分和常微分方程求解 |\n",
    "| `interpolate` | 插值                 |\n",
    "| `io`          | 输入输出             |\n",
    "| `linalg`      | 线性代数             |\n",
    "| `odr`         | 正交距离回归         |\n",
    "| `optimize`    | 优化和求根           |\n",
    "| `signal`      | 信号处理             |\n",
    "| `sparse`      | 稀疏矩阵             |\n",
    "| `spatial`     | 空间数据结构和算法   |\n",
    "| `special`     | 特殊方程             |\n",
    "| `stats`       | 统计分布和函数       |\n",
    "| `weave`       | C/C++ 积分           |\n",
    "\n",
    "在使用 **`Scipy`** 之前，为了方便，假定这些基础的模块已经被导入：\n",
    "\n",
    "\n",
    "```py\n",
    "import numpy as np\n",
    "import scipy as sp\n",
    "import matplotlib as mpl\n",
    "import matplotlib.pyplot as plt\n",
    "```\n",
    "\n",
    "使用 **Scipy** 中的子模块时，需要分别导入：\n",
    "\n",
    "\n",
    "```py\n",
    "from scipy import linalg, optimize\n",
    "复制ErrorOK!\n",
    "```\n",
    "\n",
    "对于一些常用的函数，这些在子模块中的函数可以在 `scipy` 命名空间中调用。另一方面，由于 **`Scipy`** 以 **`Numpy`** 为基础，因此很多基础的 **`Numpy`** 函数可以在`scipy` 命名空间中直接调用。"
   ]
  }
 ],
 "metadata": {
  "kernelspec": {
   "display_name": "Python 3.9.3 64-bit",
   "language": "python",
   "name": "python3"
  },
  "language_info": {
   "name": "python",
   "version": "3.9.3"
  },
  "orig_nbformat": 4,
  "vscode": {
   "interpreter": {
    "hash": "a9fcfdf80f222a2f693b759e6b70f8329ed3ae15944fc27c696bbd5b015a4703"
   }
  }
 },
 "nbformat": 4,
 "nbformat_minor": 2
}
