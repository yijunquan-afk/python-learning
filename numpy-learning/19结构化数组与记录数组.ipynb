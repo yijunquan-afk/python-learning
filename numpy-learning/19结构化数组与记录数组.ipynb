{
 "cells": [
  {
   "cell_type": "markdown",
   "metadata": {},
   "source": [
    "# Numpy入门[19]——结构化数组与记录数组\n",
    "> 参考：\n",
    ">\n",
    "> + [https://ailearning.apachecn.org/](https://ailearning.apachecn.org/)\n",
    ">\n",
    ">\n",
    "> 使用Jupyter进行练习"
   ]
  },
  {
   "cell_type": "code",
   "execution_count": 2,
   "metadata": {},
   "outputs": [],
   "source": [
    "import numpy as np"
   ]
  },
  {
   "cell_type": "markdown",
   "metadata": {},
   "source": [
    "## 结构化数组"
   ]
  },
  {
   "cell_type": "markdown",
   "metadata": {},
   "source": [
    "假设我们要保存这样的数据：\n",
    "\n",
    "|      | name | age  | wgt  |\n",
    "| ---- | ---- | ---- | ---- |\n",
    "| 0    | dan  | 1    | 23.1 |\n",
    "| 1    | ann  | 0    | 25.1 |\n",
    "| 2    | sam  | 2    | 8.3  |\n",
    "\n",
    "希望定义一个一维数组，每个元素有三个属性 `name, age, wgt`，此时我们需要使用结构化数组。"
   ]
  },
  {
   "cell_type": "markdown",
   "metadata": {},
   "source": [
    "定义数组 `a`：\n",
    "\n",
    "| 0    | 1    | 2    | 3    |\n",
    "| ---- | ---- | ---- | ---- |\n",
    "| 1.0  | 2.0  | 3.0  | 4.0  |"
   ]
  },
  {
   "cell_type": "code",
   "execution_count": 3,
   "metadata": {},
   "outputs": [
    {
     "data": {
      "text/plain": [
       "array([1.+2.j, 3.+4.j], dtype=complex64)"
      ]
     },
     "execution_count": 3,
     "metadata": {},
     "output_type": "execute_result"
    }
   ],
   "source": [
    "a = np.array([1.0,2.0,3.0,4.0], np.float32)\n",
    "# 使用 view 方法，将 a 对应的内存按照复数来解释\n",
    "a.view(np.complex64)"
   ]
  },
  {
   "cell_type": "markdown",
   "metadata": {},
   "source": [
    "| 0    | 1    | 2    | 3    |\n",
    "| ---- | ---- | ---- | ---- |\n",
    "| 1.0  | 2.0  | 3.0  | 4.0  |\n",
    "| real | imag | real | imag |\n",
    "\n",
    "事实上，可以把复数看成一个结构体，第一部分是实部，第二部分是虚部，这样这个数组便可以看成是一个结构化数组。\n",
    "\n",
    "换句话说，只需要换种方式解释这段内存，便可以得到结构化数组的效果！\n",
    "\n",
    "| 0    | 1    | 2    | 3    |\n",
    "| ---- | ---- | ---- | ---- |\n",
    "| 1.0  | 2.0  | 3.0  | 4.0  |\n",
    "| mass | vol  | mass | vol  |\n",
    "\n",
    "例如，可以将第一个浮点数解释为质量，第二个浮点数解释为速度，则这段内存还可以看成是包含两个域（质量和速度）的结构体。"
   ]
  },
  {
   "cell_type": "code",
   "execution_count": 4,
   "metadata": {},
   "outputs": [
    {
     "data": {
      "text/plain": [
       "array([(1., 2.), (3., 4.)], dtype=[('mass', '<f4'), ('vol', '<f4')])"
      ]
     },
     "execution_count": 4,
     "metadata": {},
     "output_type": "execute_result"
    }
   ],
   "source": [
    "my_dtype = np.dtype([('mass', 'float32'), ('vol', 'float32')])\n",
    "a.view(my_dtype)"
   ]
  },
  {
   "cell_type": "markdown",
   "metadata": {},
   "source": [
    "这里，使用 dtype 创造了自定义的结构类型，然后用自定义的结构来解释数组 a 所占的内存。\n",
    "\n",
    "这里 f4 表示四字节浮点数，< 表示小字节序。\n",
    "\n",
    "利用这个自定义的结构类型，可以这样初始化结构化数组："
   ]
  },
  {
   "cell_type": "code",
   "execution_count": 5,
   "metadata": {},
   "outputs": [
    {
     "name": "stdout",
     "output_type": "stream",
     "text": [
      "[(1., 1.) (1., 2.) (2., 1.) (1., 3.)]\n"
     ]
    }
   ],
   "source": [
    "my_data = np.array([(1,1), (1,2), (2,1), (1,3)], my_dtype)\n",
    "\n",
    "print(my_data)"
   ]
  },
  {
   "cell_type": "code",
   "execution_count": 6,
   "metadata": {},
   "outputs": [
    {
     "name": "stdout",
     "output_type": "stream",
     "text": [
      "第一个元素： (1., 1.)\n",
      "使用域的名称来索引速度： 1.0\n",
      "得到所有的质量信息： [1. 1. 2. 1.]\n",
      "自定义排序规则，先按速度，再按质量：\n",
      "[(1., 1.) (2., 1.) (1., 2.) (1., 3.)]\n"
     ]
    }
   ],
   "source": [
    "print('第一个元素：',my_data[0])\n",
    "print('使用域的名称来索引速度：',my_data[0]['vol'])\n",
    "print('得到所有的质量信息：',my_data['mass'])\n",
    "print('自定义排序规则，先按速度，再按质量：')\n",
    "my_data.sort(order=('vol', 'mass'))\n",
    "print(my_data)"
   ]
  },
  {
   "cell_type": "markdown",
   "metadata": {},
   "source": [
    "回到最初的例子，定义一个人的结构类型："
   ]
  },
  {
   "cell_type": "code",
   "execution_count": 7,
   "metadata": {},
   "outputs": [
    {
     "data": {
      "text/plain": [
       "22"
      ]
     },
     "execution_count": 7,
     "metadata": {},
     "output_type": "execute_result"
    }
   ],
   "source": [
    "person_dtype = np.dtype([('name', 'S10'), ('age', 'int'), ('weight', 'float')])\n",
    "# 查看类型所占字节数：\n",
    "person_dtype.itemsize"
   ]
  },
  {
   "cell_type": "code",
   "execution_count": 8,
   "metadata": {},
   "outputs": [
    {
     "name": "stdout",
     "output_type": "stream",
     "text": [
      "[[(b'Brad', 33, 135.) (b'Jane', 25, 105.) (b'John', 47, 255.)\n",
      "  (b'Fred', 54, 140.)]\n",
      " [(b'Henry', 29, 154.) (b'George', 61, 202.) (b'Brain', 32, 137.)\n",
      "  (b'Amy', 27, 187.)]\n",
      " [(b'Ron', 19, 188.) (b'Susan', 33, 135.) (b'Jennife', 18,  88.)\n",
      "  (b'Jill', 54, 145.)]]\n",
      "b'Brad'\n"
     ]
    }
   ],
   "source": [
    "# 产生一个 3 x 4 共12人的空结构体数组\n",
    "people = np.empty((3,4), person_dtype)\n",
    "# 赋值\n",
    "people['name'] = [['Brad', 'Jane', 'John', 'Fred'],\n",
    "                  ['Henry', 'George', 'Brain', 'Amy'],\n",
    "                  ['Ron', 'Susan', 'Jennife', 'Jill']]\n",
    "people['age'] = [[33, 25, 47, 54],\n",
    "                 [29, 61, 32, 27],\n",
    "                 [19, 33, 18, 54]]\n",
    "people['weight'] = [[135., 105., 255., 140.],\n",
    "                    [154., 202., 137., 187.],\n",
    "                    [188., 135., 88., 145.]]\n",
    "# 打印\n",
    "print(people)\n",
    "print(people[0][0]['name'])"
   ]
  },
  {
   "cell_type": "markdown",
   "metadata": {},
   "source": [
    "### 从文本中读取结构化数组"
   ]
  },
  {
   "cell_type": "code",
   "execution_count": 9,
   "metadata": {},
   "outputs": [
    {
     "name": "stdout",
     "output_type": "stream",
     "text": [
      "Writing people.txt\n"
     ]
    }
   ],
   "source": [
    "%%writefile people.txt\n",
    "name age weight\n",
    "amy 11 38.2\n",
    "john 10 40.3\n",
    "bill 12 21.2"
   ]
  },
  {
   "cell_type": "markdown",
   "metadata": {},
   "source": [
    "利用 `loadtxt` 指定数据类型，从这个文件中读取结构化数组："
   ]
  },
  {
   "cell_type": "code",
   "execution_count": 10,
   "metadata": {},
   "outputs": [
    {
     "data": {
      "text/plain": [
       "array([(b'amy', 11, 38.2), (b'john', 10, 40.3), (b'bill', 12, 21.2)],\n",
       "      dtype=[('name', 'S10'), ('age', '<i4'), ('weight', '<f8')])"
      ]
     },
     "execution_count": 10,
     "metadata": {},
     "output_type": "execute_result"
    }
   ],
   "source": [
    "person_dtype = np.dtype([('name', 'S10'), ('age', 'int'), ('weight', 'float')])\n",
    "\n",
    "people = np.loadtxt('people.txt', \n",
    "                    skiprows=1,\n",
    "                    dtype=person_dtype)\n",
    "\n",
    "people"
   ]
  },
  {
   "cell_type": "code",
   "execution_count": 11,
   "metadata": {},
   "outputs": [],
   "source": [
    "import os\n",
    "# 查看name\n",
    "people['name']\n",
    "# 删除文件\n",
    "os.remove('people.txt')"
   ]
  },
  {
   "cell_type": "markdown",
   "metadata": {},
   "source": [
    "对于下面的文件： \n"
   ]
  },
  {
   "cell_type": "code",
   "execution_count": 12,
   "metadata": {},
   "outputs": [
    {
     "name": "stdout",
     "output_type": "stream",
     "text": [
      "Writing wood.csv\n"
     ]
    }
   ],
   "source": [
    "%%writefile wood.csv\n",
    "item,material,number\n",
    "100,oak,33\n",
    "110,maple,14\n",
    "120,oak,7\n",
    "145,birch,3"
   ]
  },
  {
   "cell_type": "markdown",
   "metadata": {},
   "source": [
    "定义转换函数处理材料属性，使之对应一个整数："
   ]
  },
  {
   "cell_type": "code",
   "execution_count": 13,
   "metadata": {},
   "outputs": [
    {
     "data": {
      "text/plain": [
       "array([(100, 1, 33), (110, 2, 14), (120, 1,  7), (145, 3,  3)],\n",
       "      dtype=[('item', '<i8'), ('material', '<i8'), ('number', '<i8')])"
      ]
     },
     "execution_count": 13,
     "metadata": {},
     "output_type": "execute_result"
    }
   ],
   "source": [
    "tree_to_int = dict(oak = 1,\n",
    "                   maple=2,\n",
    "                   birch=3)\n",
    "def convert(s):\n",
    "    return tree_to_int.get(s.decode('ascii'))\n",
    "\n",
    "# 使用 genfromtxt 载入数据，可以自动从第一行读入属性名称：\n",
    "data = np.genfromtxt('wood.csv',\n",
    "                     delimiter=',', # 逗号分隔\n",
    "                     dtype=np.int64, # 数据类型\n",
    "                     names=True,   # 从第一行读入域名\n",
    "                     converters={1:convert}\n",
    "                    )\n",
    "data"
   ]
  },
  {
   "cell_type": "code",
   "execution_count": 14,
   "metadata": {},
   "outputs": [
    {
     "name": "stdout",
     "output_type": "stream",
     "text": [
      "[1 2 1 3]\n"
     ]
    }
   ],
   "source": [
    "# 查看域\n",
    "print(data['material'])\n",
    "# 删除文件\n",
    "os.remove('wood.csv')"
   ]
  },
  {
   "cell_type": "markdown",
   "metadata": {},
   "source": [
    "## 记录数组"
   ]
  },
  {
   "cell_type": "markdown",
   "metadata": {},
   "source": [
    "记录数组（record array）与结构数组类似："
   ]
  },
  {
   "cell_type": "code",
   "execution_count": 15,
   "metadata": {},
   "outputs": [],
   "source": [
    "# 质点类型\n",
    "partical_dtype = np.dtype([('mass', 'float'), \n",
    "                           ('velocity', 'float')])"
   ]
  },
  {
   "cell_type": "markdown",
   "metadata": {},
   "source": [
    "生成记录数组要使用 `numpy.rec` 里的 `fromrecords` 方法："
   ]
  },
  {
   "cell_type": "code",
   "execution_count": 16,
   "metadata": {},
   "outputs": [
    {
     "data": {
      "text/plain": [
       "rec.array([(1., 1.), (1., 2.), (2., 1.), (1., 3.)],\n",
       "          dtype=[('mass', '<f8'), ('velocity', '<f8')])"
      ]
     },
     "execution_count": 16,
     "metadata": {},
     "output_type": "execute_result"
    }
   ],
   "source": [
    "from numpy import rec\n",
    "\n",
    "particals_rec = rec.fromrecords([(1,1), (1,2), (2,1), (1,3)], \n",
    "                                dtype = partical_dtype)\n",
    "particals_rec"
   ]
  },
  {
   "cell_type": "markdown",
   "metadata": {},
   "source": [
    "在记录数组中，域可以通过属性来获得："
   ]
  },
  {
   "cell_type": "code",
   "execution_count": 17,
   "metadata": {},
   "outputs": [
    {
     "data": {
      "text/plain": [
       "array([1., 1., 2., 1.])"
      ]
     },
     "execution_count": 17,
     "metadata": {},
     "output_type": "execute_result"
    }
   ],
   "source": [
    "particals_rec.mass"
   ]
  },
  {
   "cell_type": "markdown",
   "metadata": {},
   "source": [
    "也可以通过域来查询："
   ]
  },
  {
   "cell_type": "code",
   "execution_count": 18,
   "metadata": {},
   "outputs": [
    {
     "data": {
      "text/plain": [
       "array([1., 1., 2., 1.])"
      ]
     },
     "execution_count": 18,
     "metadata": {},
     "output_type": "execute_result"
    }
   ],
   "source": [
    "particals_rec['mass']"
   ]
  },
  {
   "cell_type": "markdown",
   "metadata": {},
   "source": [
    "不过，记录数组的运行效率要比结构化数组要慢一些。\n",
    "\n",
    "也可以通过将一个结构化数组看成记录数组："
   ]
  },
  {
   "cell_type": "code",
   "execution_count": 19,
   "metadata": {},
   "outputs": [
    {
     "name": "stdout",
     "output_type": "stream",
     "text": [
      "[1. 1. 2. 1.]\n",
      "[1. 2. 1. 3.]\n",
      "('mass', 'velocity')\n"
     ]
    }
   ],
   "source": [
    "particals = np.array([(1,1), (1,2), (2,1), (1,3)],\n",
    "                     dtype = partical_dtype)\n",
    "particals_rec = particals.view(np.recarray)\n",
    "print(particals_rec.mass)\n",
    "print(particals_rec.velocity)\n",
    "# 对于自定义的类型，可以通过它的 names 属性查看它有哪些域\n",
    "print(particals.dtype.names)"
   ]
  }
 ],
 "metadata": {
  "kernelspec": {
   "display_name": "Python 3.9.3 64-bit",
   "language": "python",
   "name": "python3"
  },
  "language_info": {
   "codemirror_mode": {
    "name": "ipython",
    "version": 3
   },
   "file_extension": ".py",
   "mimetype": "text/x-python",
   "name": "python",
   "nbconvert_exporter": "python",
   "pygments_lexer": "ipython3",
   "version": "3.9.3"
  },
  "orig_nbformat": 4,
  "vscode": {
   "interpreter": {
    "hash": "a9fcfdf80f222a2f693b759e6b70f8329ed3ae15944fc27c696bbd5b015a4703"
   }
  }
 },
 "nbformat": 4,
 "nbformat_minor": 2
}
