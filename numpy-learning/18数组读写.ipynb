{
 "cells": [
  {
   "cell_type": "markdown",
   "metadata": {},
   "source": [
    "# Numpy入门[18]——数组读写\n",
    "> 参考：\n",
    ">\n",
    "> + [https://ailearning.apachecn.org/](https://ailearning.apachecn.org/)\n",
    ">\n",
    ">\n",
    "> 使用Jupyter进行练习"
   ]
  },
  {
   "cell_type": "code",
   "execution_count": 1,
   "metadata": {},
   "outputs": [],
   "source": [
    "import numpy as np"
   ]
  },
  {
   "cell_type": "markdown",
   "metadata": {},
   "source": [
    "## 空格（制表符）分割的文本"
   ]
  },
  {
   "cell_type": "markdown",
   "metadata": {},
   "source": [
    "假设有这样的一个空白分割的文件："
   ]
  },
  {
   "cell_type": "code",
   "execution_count": 2,
   "metadata": {},
   "outputs": [
    {
     "name": "stdout",
     "output_type": "stream",
     "text": [
      "Writing myfile.txt\n"
     ]
    }
   ],
   "source": [
    "%%writefile myfile.txt\n",
    "2.1 2.3 3.2 1.3 3.1\n",
    "6.1 3.1 4.2 2.3 1.8"
   ]
  },
  {
   "cell_type": "markdown",
   "metadata": {},
   "source": [
    "为了生成数组，先将数据转化成一个列表组成的列表，再将这个列表转换为数组："
   ]
  },
  {
   "cell_type": "code",
   "execution_count": 4,
   "metadata": {},
   "outputs": [
    {
     "data": {
      "text/plain": [
       "array([[2.1, 2.3, 3.2, 1.3, 3.1],\n",
       "       [6.1, 3.1, 4.2, 2.3, 1.8]])"
      ]
     },
     "execution_count": 4,
     "metadata": {},
     "output_type": "execute_result"
    }
   ],
   "source": [
    "data = []\n",
    "with open('myfile.txt') as f:\n",
    "    # 每次读一行\n",
    "    for  line in f:\n",
    "        fileds = line.split()\n",
    "        row_data = [float(x) for x in fileds]\n",
    "        data.append(row_data)\n",
    "data = np.array(data)\n",
    "data"
   ]
  },
  {
   "cell_type": "markdown",
   "metadata": {},
   "source": [
    "更简便的是使用 `loadtxt` 方法："
   ]
  },
  {
   "cell_type": "code",
   "execution_count": 5,
   "metadata": {},
   "outputs": [
    {
     "data": {
      "text/plain": [
       "array([[2.1, 2.3, 3.2, 1.3, 3.1],\n",
       "       [6.1, 3.1, 4.2, 2.3, 1.8]])"
      ]
     },
     "execution_count": 5,
     "metadata": {},
     "output_type": "execute_result"
    }
   ],
   "source": [
    "data = np.loadtxt('myfile.txt')\n",
    "data"
   ]
  },
  {
   "cell_type": "markdown",
   "metadata": {},
   "source": [
    "## 逗号分隔文件"
   ]
  },
  {
   "cell_type": "code",
   "execution_count": 6,
   "metadata": {},
   "outputs": [
    {
     "name": "stdout",
     "output_type": "stream",
     "text": [
      "Overwriting myfile.txt\n"
     ]
    }
   ],
   "source": [
    "%%writefile myfile.txt\n",
    "2.1, 2.3, 3.2, 1.3, 3.1\n",
    "6.1, 3.1, 4.2, 2.3, 1.8"
   ]
  },
  {
   "cell_type": "markdown",
   "metadata": {},
   "source": [
    "对于逗号分隔的文件（通常为`.csv`格式）,我可以稍微修改之前繁琐的过程，将 split 的参数变成 `','`即可。\n",
    "\n",
    "不过，`loadtxt` 函数也可以读这样的文件，只需要制定分割符的参数即可："
   ]
  },
  {
   "cell_type": "code",
   "execution_count": 7,
   "metadata": {},
   "outputs": [
    {
     "data": {
      "text/plain": [
       "array([[2.1, 2.3, 3.2, 1.3, 3.1],\n",
       "       [6.1, 3.1, 4.2, 2.3, 1.8]])"
      ]
     },
     "execution_count": 7,
     "metadata": {},
     "output_type": "execute_result"
    }
   ],
   "source": [
    "data = np.loadtxt('myfile.txt', delimiter=',')\n",
    "data"
   ]
  },
  {
   "cell_type": "markdown",
   "metadata": {},
   "source": [
    "## loadtxt函数"
   ]
  },
  {
   "cell_type": "markdown",
   "metadata": {},
   "source": [
    "```python\n",
    "loadtxt(fname, dtype=<type 'float'>, \n",
    "        comments='#', delimiter=None, \n",
    "        converters=None, skiprows=0, \n",
    "        usecols=None, unpack=False, ndmin=0) \n",
    "```\n",
    "`delimiter` 就是刚才用到的分隔符参数。\n",
    "\n",
    "`skiprows` 参数表示忽略开头的行数，可以用来读写含有标题的文本"
   ]
  },
  {
   "cell_type": "code",
   "execution_count": 8,
   "metadata": {},
   "outputs": [
    {
     "name": "stdout",
     "output_type": "stream",
     "text": [
      "Overwriting myfile.txt\n"
     ]
    }
   ],
   "source": [
    "%%writefile myfile.txt\n",
    "X Y Z MAG ANG\n",
    "2.1 2.3 3.2 1.3 3.1\n",
    "6.1 3.1 4.2 2.3 1.8"
   ]
  },
  {
   "cell_type": "code",
   "execution_count": 10,
   "metadata": {},
   "outputs": [
    {
     "data": {
      "text/plain": [
       "array([[2.1, 2.3, 3.2, 1.3, 3.1],\n",
       "       [6.1, 3.1, 4.2, 2.3, 1.8]])"
      ]
     },
     "execution_count": 10,
     "metadata": {},
     "output_type": "execute_result"
    }
   ],
   "source": [
    "np.loadtxt('myfile.txt', skiprows=1)"
   ]
  },
  {
   "cell_type": "markdown",
   "metadata": {},
   "source": [
    "此外，有一个功能更为全面的 `genfromtxt` 函数，能处理更多的情况，但相应的速度和效率会慢一些。\n",
    "\n",
    "```python\n",
    "genfromtxt(fname, dtype=<type 'float'>, comments='#', delimiter=None, \n",
    "           skiprows=0, skip_header=0, skip_footer=0, converters=None, \n",
    "           missing='', missing_values=None, filling_values=None, usecols=None, \n",
    "           names=None, excludelist=None, deletechars=None, replace_space='_', \n",
    "           autostrip=False, case_sensitive=True, defaultfmt='f%i', unpack=None, \n",
    "           usemask=False, loose=True, invalid_raise=True)\n",
    "\n",
    "```"
   ]
  },
  {
   "cell_type": "markdown",
   "metadata": {},
   "source": [
    "### loadtxt的更多特性"
   ]
  },
  {
   "cell_type": "code",
   "execution_count": 11,
   "metadata": {},
   "outputs": [
    {
     "name": "stdout",
     "output_type": "stream",
     "text": [
      "Overwriting myfile.txt\n"
     ]
    }
   ],
   "source": [
    "%%writefile myfile.txt\n",
    " -- BEGINNING OF THE FILE\n",
    "% Day, Month, Year, Skip, Power\n",
    "01, 01, 2000, x876, 13 % wow!\n",
    "% we don't want have Jan 03rd\n",
    "04, 01, 2000, xfed, 55"
   ]
  },
  {
   "cell_type": "code",
   "execution_count": 14,
   "metadata": {},
   "outputs": [
    {
     "data": {
      "text/plain": [
       "array([[   1,    1, 2000,   13],\n",
       "       [   4,    1, 2000,   55]], dtype=int64)"
      ]
     },
     "execution_count": 14,
     "metadata": {},
     "output_type": "execute_result"
    }
   ],
   "source": [
    "data = np.loadtxt('myfile.txt', \n",
    "                  skiprows=1,        #忽略第一行\n",
    "                  dtype=np.int64,    #数组类型\n",
    "                  delimiter=',',     #逗号分割\n",
    "                  usecols=(0,1,2,4), #指定使用哪几列数据\n",
    "                  comments='%'       #百分号为注释符\n",
    "                 )\n",
    "data"
   ]
  },
  {
   "cell_type": "markdown",
   "metadata": {},
   "source": [
    "### loadtxt自定义转换方法"
   ]
  },
  {
   "cell_type": "code",
   "execution_count": 15,
   "metadata": {},
   "outputs": [
    {
     "name": "stdout",
     "output_type": "stream",
     "text": [
      "Overwriting myfile.txt\n"
     ]
    }
   ],
   "source": [
    "%%writefile myfile.txt\n",
    "2010-01-01 2.3 3.2\n",
    "2011-01-01 6.1 3.1"
   ]
  },
  {
   "cell_type": "markdown",
   "metadata": {},
   "source": [
    "假设我们的文本包含日期，我们可以使用 `datetime` 在 `loadtxt` 中处理："
   ]
  },
  {
   "cell_type": "code",
   "execution_count": 19,
   "metadata": {},
   "outputs": [
    {
     "data": {
      "text/plain": [
       "array([[datetime.datetime(2010, 1, 1, 0, 0), 2.3, 3.2],\n",
       "       [datetime.datetime(2011, 1, 1, 0, 0), 6.1, 3.1]], dtype=object)"
      ]
     },
     "execution_count": 19,
     "metadata": {},
     "output_type": "execute_result"
    }
   ],
   "source": [
    "import datetime\n",
    "\n",
    "def date_converter(s):\n",
    "    return datetime.datetime.strptime(s.decode('ascii'), \"%Y-%m-%d\")\n",
    "\n",
    "data = np.loadtxt('myfile.txt',\n",
    "                  dtype=object, #数据类型为对象\n",
    "                  converters={0:date_converter,  #第一列使用自定义转换方法\n",
    "                              1:float,           #第二第三使用浮点数转换\n",
    "                              2:float})\n",
    "\n",
    "data"
   ]
  },
  {
   "cell_type": "code",
   "execution_count": 20,
   "metadata": {},
   "outputs": [],
   "source": [
    "import os\n",
    "os.remove('myfile.txt')"
   ]
  },
  {
   "cell_type": "markdown",
   "metadata": {},
   "source": [
    "## 读写各种格式的文件\n",
    "\n",
    "如下表所示：\n",
    "\n",
    "| 文件格式     | 使用的包                 | 函数                                           |\n",
    "| ------------ | ------------------------ | ---------------------------------------------- |\n",
    "| txt          | numpy                    | loadtxt, genfromtxt, fromfile, savetxt, tofile |\n",
    "| csv          | csv                      | reader, writer                                 |\n",
    "| Matlab       | scipy.io                 | loadmat, savemat                               |\n",
    "| hdf          | pytables, h5py           |                                                |\n",
    "| NetCDF       | netCDF4, scipy.io.netcdf | netCDF4.Dataset, scipy.io.netcdf.netcdf_file   |\n",
    "| **文件格式** | **使用的包**             | **备注**                                       |\n",
    "| wav          | scipy.io.wavfile         | 音频文件                                       |\n",
    "| jpeg,png,... | PIL, scipy.misc.pilutil  | 图像文件                                       |\n",
    "| fits         | pyfits                   | 天文图像                                       |\n",
    "\n"
   ]
  },
  {
   "cell_type": "markdown",
   "metadata": {},
   "source": [
    "## 将数组写入文件"
   ]
  },
  {
   "cell_type": "markdown",
   "metadata": {},
   "source": [
    "`savetxt` 可以将数组写入文件，参数如下：\n",
    "\n",
    "```python\n",
    "savetxt(fname, \n",
    "        X, \n",
    "        fmt='%.18e', \n",
    "        delimiter=' ', \n",
    "        newline='\\n', \n",
    "        header='', \n",
    "        footer='', \n",
    "        comments='# ')\n",
    "```"
   ]
  },
  {
   "cell_type": "markdown",
   "metadata": {},
   "source": [
    "示例："
   ]
  },
  {
   "cell_type": "code",
   "execution_count": 26,
   "metadata": {},
   "outputs": [
    {
     "name": "stdout",
     "output_type": "stream",
     "text": [
      "默认输出\n",
      "1.000000000000000000e+00 2.000000000000000000e+00\n",
      "\n",
      "3.000000000000000000e+00 4.000000000000000000e+00\n",
      "\n",
      "保存为整数\n",
      "1 2\n",
      "\n",
      "3 4\n",
      "\n",
      "保存为2位小数的浮点数，用逗号分隔\n",
      "1.00,2.00\n",
      "\n",
      "3.00,4.00\n",
      "\n",
      "输出复数\n",
      " (1.00+1.00j), (2.00+0.00j)\n",
      "\n",
      " (3.00+0.00j), (4.00+0.00j)\n",
      "\n"
     ]
    }
   ],
   "source": [
    "data = np.array([[1,2], \n",
    "                 [3,4]])\n",
    "def output(file):\n",
    "    with open(file) as f:\n",
    "        for line in f:\n",
    "            print(line)\n",
    "np.savetxt('out1.txt', data)\n",
    "print(\"默认输出\")\n",
    "output('out1.txt')\n",
    "np.savetxt('out2.txt', data, fmt=\"%d\") #保存为整数\n",
    "print('保存为整数')\n",
    "output('out2.txt')\n",
    "np.savetxt('out3.txt', data, fmt=\"%.2f\", delimiter=',') #保存为2位小数的浮点数，用逗号分隔\n",
    "print('保存为2位小数的浮点数，用逗号分隔')\n",
    "output('out3.txt')\n",
    "\n",
    "data2 = np.array([[1+1j,2], \n",
    "                 [3,4]])\n",
    "\n",
    "np.savetxt('out4.txt', data2, fmt=\"%.2f\", delimiter=',') #保存为2位小数的浮点数，用逗号分隔\n",
    "print('输出复数')\n",
    "output('out4.txt')\n"
   ]
  },
  {
   "cell_type": "markdown",
   "metadata": {},
   "source": [
    "移除生成的文件。"
   ]
  },
  {
   "cell_type": "code",
   "execution_count": 28,
   "metadata": {},
   "outputs": [],
   "source": [
    "import os\n",
    "os.remove('out1.txt')\n",
    "os.remove('out2.txt')\n",
    "os.remove('out3.txt')\n",
    "os.remove('out4.txt')"
   ]
  },
  {
   "cell_type": "markdown",
   "metadata": {},
   "source": [
    "## Numpy二进制格式"
   ]
  },
  {
   "cell_type": "markdown",
   "metadata": {},
   "source": [
    "数组可以储存成二进制格式，单个的数组保存为 `.npy` 格式，多个数组保存为多个`.npy`文件组成的 `.npz` 格式，每个 `.npy` 文件包含一个数组。\n",
    "\n",
    "与文本格式不同，二进制格式保存了数组的 `shape, dtype` 信息，以便完全重构出保存的数组。\n",
    "\n",
    "保存的方法：\n",
    "\n",
    "- `save(file, arr)` 保存单个数组，`.npy` 格式\n",
    "- `savez(file, *args, **kwds)` 保存多个数组，无压缩的 `.npz` 格式\n",
    "- `savez_compressed(file, *args, **kwds)` 保存多个数组，有压缩的 `.npz` 格式\n",
    "\n",
    "读取的方法：\n",
    "\n",
    "- `load(file, mmap_mode=None)` 对于 `.npy`，返回保存的数组，对于 `.npz`，返回一个名称-数组对组成的字典。"
   ]
  },
  {
   "cell_type": "markdown",
   "metadata": {},
   "source": [
    "### 单个数组的读写"
   ]
  },
  {
   "cell_type": "code",
   "execution_count": 29,
   "metadata": {},
   "outputs": [
    {
     "data": {
      "text/plain": [
       "array([[1., 2.],\n",
       "       [3., 4.]])"
      ]
     },
     "execution_count": 29,
     "metadata": {},
     "output_type": "execute_result"
    }
   ],
   "source": [
    "a = np.array([[1.0,2.0], [3.0,4.0]])\n",
    "\n",
    "fname = 'afile.npy'\n",
    "np.save(fname, a)\n",
    "aa = np.load(fname)\n",
    "aa"
   ]
  },
  {
   "cell_type": "code",
   "execution_count": 30,
   "metadata": {},
   "outputs": [],
   "source": [
    "# 删除\n",
    "os.remove('afile.npy')"
   ]
  },
  {
   "cell_type": "markdown",
   "metadata": {},
   "source": [
    "### 二进制与文本大小比较"
   ]
  },
  {
   "cell_type": "code",
   "execution_count": 32,
   "metadata": {},
   "outputs": [
    {
     "name": "stdout",
     "output_type": "stream",
     "text": [
      "文本文件大小： 260000\n",
      "二进制文件大小： 80128\n"
     ]
    }
   ],
   "source": [
    "a = np.arange(10000.)\n",
    "np.savetxt('a.txt',a)\n",
    "print('文本文件大小：',os.stat('a.txt').st_size)\n",
    "np.save('a.npy', a)\n",
    "print('二进制文件大小：',os.stat('a.npy').st_size)\n",
    "# 删除生成的文件\n",
    "os.remove('a.npy')\n",
    "os.remove('a.txt')"
   ]
  },
  {
   "cell_type": "markdown",
   "metadata": {},
   "source": [
    "可以看到，二进制文件大约是文本文件的三分之一。"
   ]
  },
  {
   "cell_type": "markdown",
   "metadata": {},
   "source": [
    "### 保存多个数组"
   ]
  },
  {
   "cell_type": "code",
   "execution_count": 33,
   "metadata": {},
   "outputs": [
    {
     "name": "stdout",
     "output_type": "stream",
     "text": [
      "Archive:  data.npz\n",
      "  Length      Date    Time    Name\n",
      "---------  ---------- -----   ----\n",
      "      160  1980/01/01 00:00   a.npy\n",
      "     4128  1980/01/01 00:00   b.npy\n",
      "---------                     -------\n",
      "     4288                     2 files\n"
     ]
    }
   ],
   "source": [
    "a = np.array([[1.0,2.0], \n",
    "              [3.0,4.0]])\n",
    "b = np.arange(1000)\n",
    "np.savez('data.npz', a=a, b=b)\n",
    "# 查看包含的文件\n",
    "!unzip -l data.npz\n"
   ]
  },
  {
   "cell_type": "code",
   "execution_count": 39,
   "metadata": {},
   "outputs": [
    {
     "data": {
      "text/plain": [
       "(1000,)"
      ]
     },
     "execution_count": 39,
     "metadata": {},
     "output_type": "execute_result"
    }
   ],
   "source": [
    "# 载入数据\n",
    "data = np.load('data.npz')\n",
    "# 载入后可以像字典一样进行操作\n",
    "# data['a']\n",
    "data['b'].shape"
   ]
  },
  {
   "cell_type": "markdown",
   "metadata": {},
   "source": [
    "### 压缩文件"
   ]
  },
  {
   "cell_type": "code",
   "execution_count": 46,
   "metadata": {},
   "outputs": [
    {
     "name": "stdout",
     "output_type": "stream",
     "text": [
      "当数据比较整齐时\n",
      "文件压缩前大小： 160256\n",
      "文件压缩后大小： 26908\n",
      "压缩倍数： 5.955700906793519\n"
     ]
    }
   ],
   "source": [
    "print('当数据比较整齐时')\n",
    "a = np.arange(20000.)\n",
    "np.savez('a.npz', a=a)\n",
    "print('文件压缩前大小：',os.stat('a.npz').st_size)\n",
    "np.savez_compressed('a2.npz', a=a)\n",
    "print('文件压缩后大小：',os.stat('a2.npz').st_size)\n",
    "print('压缩倍数：',os.stat('a.npz').st_size/os.stat('a2.npz').st_size)\n"
   ]
  },
  {
   "cell_type": "code",
   "execution_count": 47,
   "metadata": {},
   "outputs": [
    {
     "name": "stdout",
     "output_type": "stream",
     "text": [
      "当数据比较混乱时\n",
      "文件压缩前大小： 160256\n",
      "文件压缩后大小： 151109\n",
      "压缩倍数： 1.0605324633211788\n"
     ]
    }
   ],
   "source": [
    "print('当数据比较混乱时')\n",
    "a = np.random.rand(20000)\n",
    "np.savez('a.npz', a=a)\n",
    "print('文件压缩前大小：',os.stat('a.npz').st_size)\n",
    "np.savez_compressed('a2.npz', a=a)\n",
    "print('文件压缩后大小：',os.stat('a2.npz').st_size)\n",
    "print('压缩倍数：',os.stat('a.npz').st_size/os.stat('a2.npz').st_size)"
   ]
  },
  {
   "cell_type": "code",
   "execution_count": 48,
   "metadata": {},
   "outputs": [],
   "source": [
    "os.remove('a.npz')\n",
    "os.remove('a2.npz')"
   ]
  }
 ],
 "metadata": {
  "kernelspec": {
   "display_name": "Python 3.9.3 64-bit",
   "language": "python",
   "name": "python3"
  },
  "language_info": {
   "codemirror_mode": {
    "name": "ipython",
    "version": 3
   },
   "file_extension": ".py",
   "mimetype": "text/x-python",
   "name": "python",
   "nbconvert_exporter": "python",
   "pygments_lexer": "ipython3",
   "version": "3.9.3"
  },
  "orig_nbformat": 4,
  "vscode": {
   "interpreter": {
    "hash": "a9fcfdf80f222a2f693b759e6b70f8329ed3ae15944fc27c696bbd5b015a4703"
   }
  }
 },
 "nbformat": 4,
 "nbformat_minor": 2
}
