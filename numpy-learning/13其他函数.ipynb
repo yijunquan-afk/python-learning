{
 "cells": [
  {
   "cell_type": "markdown",
   "metadata": {},
   "source": [
    "# Numpy入门[13]——其他函数\n",
    "> 参考：\n",
    ">\n",
    "> [https://ailearning.apachecn.org/](https://ailearning.apachecn.org/)\n",
    ">\n",
    "> 使用Jupyter进行练习"
   ]
  },
  {
   "cell_type": "code",
   "execution_count": 1,
   "metadata": {},
   "outputs": [],
   "source": [
    "import numpy as np"
   ]
  },
  {
   "cell_type": "markdown",
   "metadata": {},
   "source": [
    "## 三角函数"
   ]
  },
  {
   "cell_type": "markdown",
   "metadata": {},
   "source": [
    "```python\n",
    "sin(x)\n",
    "cos(x)\n",
    "tan(x)\n",
    "sinh(x)\n",
    "conh(x)\n",
    "tanh(x)\n",
    "arccos(x)\n",
    "arctan(x)\n",
    "arcsin(x)\n",
    "arccosh(x)\n",
    "arctanh(x)\n",
    "arcsinh(x)\n",
    "arctan2(x,y) # arctan2(x,y) 返回 arctan(x/y) \n",
    "```"
   ]
  },
  {
   "cell_type": "markdown",
   "metadata": {},
   "source": [
    "## 向量操作"
   ]
  },
  {
   "cell_type": "markdown",
   "metadata": {},
   "source": [
    "```python\n",
    "\n",
    "dot(x,y)   # 矩阵乘积\n",
    "inner(x,y) # 内积运算\n",
    "cross(x,y) # 外积运算\n",
    "vdot(x,y)  # 两向量的点积\n",
    "outer(x,y) # 外积运算\n",
    "kron(x,y)  # 克罗内克积\n",
    "tensordot(x,y[,axis]) # 张量乘积\n",
    "\n",
    "```"
   ]
  },
  {
   "cell_type": "markdown",
   "metadata": {},
   "source": [
    "## 其他操作"
   ]
  },
  {
   "cell_type": "markdown",
   "metadata": {},
   "source": [
    "```python\n",
    "exp(x)\n",
    "log(x)\n",
    "log10(x)\n",
    "sqrt(x)\n",
    "absolute(x)  # 复数的绝对值。\n",
    "conjugate(x) # 逐元素返回复共轭。\n",
    "negative(x)\n",
    "ceil(x)\n",
    "floor(x)\n",
    "fabs(x)      # 逐元素计算绝对值。\n",
    "hypot(x,y)     # 返回对应点 (x,y) 到原点的距离\n",
    "fmod(x)      # 返回除法的元素余数\n",
    "maximum(x,y)\n",
    "minimum(x,y) \n",
    "```"
   ]
  },
  {
   "cell_type": "code",
   "execution_count": 2,
   "metadata": {},
   "outputs": [
    {
     "data": {
      "text/plain": [
       "array([4.12310563, 5.38516481, 6.70820393])"
      ]
     },
     "execution_count": 2,
     "metadata": {},
     "output_type": "execute_result"
    }
   ],
   "source": [
    "x = np.array([1,2,3])\n",
    "y = np.array([4,5,6])\n",
    "np.hypot(x,y)"
   ]
  },
  {
   "cell_type": "markdown",
   "metadata": {},
   "source": [
    "## 类型处理"
   ]
  },
  {
   "cell_type": "markdown",
   "metadata": {},
   "source": [
    "```python\n",
    "iscomplexobj(x)         # 检查复数类型或复数数组\n",
    "iscomplex(x)            # 返回一个 bool 数组，如果输入元素是复数，则返回 True。\n",
    "                        # 测试的是输入是否具有非零虚部，而不是输入类型是否为复数。\n",
    "isrealobj(x)            # 如果 x 不是复数类型或复数数组，则返回 True\n",
    "isreal(x)               # 同上\n",
    "imag(x)                 # 返回复数参数的虚部\n",
    "real(x)                 # 返回复数参数的实部\n",
    "real_if_close(x)        # 如果输入是复数，所有虚部都接近零，则返回实部\n",
    "isscalar(x)             # 如果元素的类型是标量类型，则返回 True。\n",
    "isneginf(x, out=None)   # 逐元素测试负无穷大，将结果作为 bool 数组返回。\n",
    "isposinf(x, out=None)   # 逐元素测试负无穷大，将结果作为 bool 数组返回。\n",
    "isinf(x)                # 逐元素测试正无穷或负无穷。\n",
    "isfinite(x)             # 逐元素测试有限性(不是无穷大，也不是非数字)。\n",
    "isnan(x)                # 按元素测试 NaN 并将结果作为布尔数组返回。\n",
    "nan_to_num(x)           # 在数组中将nan(Not A Number)替换为零，并将inf替换为有限数字。\n",
    "common_type(x)          # 返回输入数组共有的标量类型。\n",
    "```"
   ]
  },
  {
   "cell_type": "code",
   "execution_count": 4,
   "metadata": {},
   "outputs": [
    {
     "name": "stdout",
     "output_type": "stream",
     "text": [
      "正无穷： inf\n",
      "负无穷： -inf\n",
      "非法值（Not a number）： nan\n"
     ]
    }
   ],
   "source": [
    "print(\"正无穷：\",np.inf)\n",
    "print(\"负无穷：\",-np.inf)\n",
    "print(\"非法值（Not a number）：\",np.nan)"
   ]
  },
  {
   "cell_type": "code",
   "execution_count": 6,
   "metadata": {},
   "outputs": [
    {
     "name": "stdout",
     "output_type": "stream",
     "text": [
      "1.0是否为无穷： False\n",
      "inf是否为无穷： True\n"
     ]
    }
   ],
   "source": [
    "# 检查是否为无穷\n",
    "print(\"1.0是否为无穷：\",np.isinf(1.0))\n",
    "print(\"inf是否为无穷：\",np.isinf(np.inf))"
   ]
  },
  {
   "cell_type": "code",
   "execution_count": 7,
   "metadata": {},
   "outputs": [
    {
     "name": "stderr",
     "output_type": "stream",
     "text": [
      "C:\\Users\\26969\\AppData\\Local\\Temp\\ipykernel_109012\\4069785327.py:2: RuntimeWarning: invalid value encountered in true_divide\n",
      "  np.array([0]) / 0.0\n"
     ]
    },
    {
     "data": {
      "text/plain": [
       "array([nan])"
      ]
     },
     "execution_count": 7,
     "metadata": {},
     "output_type": "execute_result"
    }
   ],
   "source": [
    "# 非法值\n",
    "np.array([0]) / 0.0"
   ]
  },
  {
   "cell_type": "markdown",
   "metadata": {},
   "source": [
    "只有 0/0 会得到 nan，非0值除以0会得到无穷："
   ]
  },
  {
   "cell_type": "code",
   "execution_count": 8,
   "metadata": {},
   "outputs": [
    {
     "name": "stderr",
     "output_type": "stream",
     "text": [
      "C:\\Users\\26969\\AppData\\Local\\Temp\\ipykernel_109012\\1104600791.py:2: RuntimeWarning: divide by zero encountered in true_divide\n",
      "  b = a / 0.0\n",
      "C:\\Users\\26969\\AppData\\Local\\Temp\\ipykernel_109012\\1104600791.py:2: RuntimeWarning: invalid value encountered in true_divide\n",
      "  b = a / 0.0\n"
     ]
    },
    {
     "data": {
      "text/plain": [
       "array([nan, inf, inf, inf, inf])"
      ]
     },
     "execution_count": 8,
     "metadata": {},
     "output_type": "execute_result"
    }
   ],
   "source": [
    "a = np.arange(5.0)\n",
    "b = a / 0.0\n",
    "b"
   ]
  },
  {
   "cell_type": "markdown",
   "metadata": {},
   "source": [
    "nan 与任何数进行比较都是 False："
   ]
  },
  {
   "cell_type": "code",
   "execution_count": 9,
   "metadata": {},
   "outputs": [
    {
     "data": {
      "text/plain": [
       "array([False, False, False, False, False])"
      ]
     },
     "execution_count": 9,
     "metadata": {},
     "output_type": "execute_result"
    }
   ],
   "source": [
    "b == np.nan"
   ]
  },
  {
   "cell_type": "markdown",
   "metadata": {},
   "source": [
    "想要找出 `nan` 值需要使用 `isnan`："
   ]
  },
  {
   "cell_type": "code",
   "execution_count": 10,
   "metadata": {},
   "outputs": [
    {
     "data": {
      "text/plain": [
       "array([ True, False, False, False, False])"
      ]
     },
     "execution_count": 10,
     "metadata": {},
     "output_type": "execute_result"
    }
   ],
   "source": [
    "np.isnan(b)"
   ]
  },
  {
   "cell_type": "markdown",
   "metadata": {},
   "source": [
    "## 修改形状"
   ]
  },
  {
   "cell_type": "markdown",
   "metadata": {},
   "source": [
    "```python\n",
    "atleast_1d\n",
    "atleast_2d\n",
    "atleast_3d\n",
    "expand_dims\n",
    "apply_over_axes\n",
    "apply_along_axis\n",
    "hstack\n",
    "vstack\n",
    "dstack\n",
    "column_stack\n",
    "hsplit\n",
    "vsplit\n",
    "dsplit\n",
    "split\n",
    "squeeze\n",
    "```"
   ]
  },
  {
   "cell_type": "markdown",
   "metadata": {},
   "source": [
    "## 其他有用函数"
   ]
  },
  {
   "cell_type": "markdown",
   "metadata": {},
   "source": [
    "```python\n",
    "fix\n",
    "mod\n",
    "amax\n",
    "amin\n",
    "ptp\n",
    "sum\n",
    "cumsum\n",
    "prod\n",
    "cumprod\n",
    "diff\n",
    "angle\n",
    "\n",
    "unwrap\n",
    "sort_complex\n",
    "trim_zeros\n",
    "fliplr\n",
    "flipud\n",
    "rot90\n",
    "diag\n",
    "eye\n",
    "select\n",
    "extract\n",
    "insert\n",
    "\n",
    "roots\n",
    "poly\n",
    "any\n",
    "all\n",
    "disp\n",
    "unique\n",
    "nansum\n",
    "nanmax\n",
    "nanargmax\n",
    "nanargmin\n",
    "nanmin \n",
    "```"
   ]
  }
 ],
 "metadata": {
  "kernelspec": {
   "display_name": "Python 3.9.3 64-bit",
   "language": "python",
   "name": "python3"
  },
  "language_info": {
   "codemirror_mode": {
    "name": "ipython",
    "version": 3
   },
   "file_extension": ".py",
   "mimetype": "text/x-python",
   "name": "python",
   "nbconvert_exporter": "python",
   "pygments_lexer": "ipython3",
   "version": "3.9.3"
  },
  "orig_nbformat": 4,
  "vscode": {
   "interpreter": {
    "hash": "a9fcfdf80f222a2f693b759e6b70f8329ed3ae15944fc27c696bbd5b015a4703"
   }
  }
 },
 "nbformat": 4,
 "nbformat_minor": 2
}
