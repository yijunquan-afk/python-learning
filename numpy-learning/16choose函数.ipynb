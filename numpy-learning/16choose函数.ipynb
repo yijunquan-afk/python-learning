{
 "cells": [
  {
   "cell_type": "markdown",
   "metadata": {},
   "source": [
    "# Numpy入门[16]——choose函数实现条件筛选\n",
    "> 参考：\n",
    ">\n",
    "> + [https://ailearning.apachecn.org/](https://ailearning.apachecn.org/)\n",
    "> + [numpy高级函数操作之——select、choose](https://blog.csdn.net/qq_27825451/article/details/82698929)\n",
    ">\n",
    "> 使用Jupyter进行练习"
   ]
  },
  {
   "cell_type": "markdown",
   "metadata": {},
   "source": [
    "\n",
    "借助`numpy.choose()`方法，我们可以通过将包含要选择的行号索引的参数作为数组传递，从多维数组中选择元素。\n",
    "\n",
    "对于数组，有时候需要进行类似 `switch` 和 `case` 进行条件选择，此时使用 choose 函数十分方便："
   ]
  },
  {
   "cell_type": "markdown",
   "metadata": {},
   "source": [
    "```python\n",
    "def choose(a, choices, out=None, mode='raise')\n",
    "```\n",
    "\n",
    "参数 a ：它必须是一个 int 型的 数组，并且 a 中的元素，必须是0~n-1之间的数，这里的n表示的就是数组choices数组最外层的维度数。\n",
    "\n",
    "choices：表示的是要操作的数组，要注意的是choices的数组的维度是一定要和a进行匹配的，如果匹配不了，会出现错误。\n",
    "\n",
    "参数out：接收运算结果的数组，它的维度一定要和 a 是一样的，是可选参数。\n",
    "\n",
    "参数mode：\n",
    "\n",
    "+ 默认的是raise，表示的是a数组中的元素不能超过 n \n",
    "\n",
    "+ clip：将 a 中的 元素 如果小于0，则将其变为0，如果大于n-1，则变为n-1\n",
    "\n",
    "+ wrap：将a中的值 value变为value mod n，即值除以n的余数。"
   ]
  },
  {
   "cell_type": "code",
   "execution_count": 19,
   "metadata": {},
   "outputs": [
    {
     "data": {
      "text/plain": [
       "array([[20,  1, 12],\n",
       "       [20, 11,  2],\n",
       "       [10, 21, 22]])"
      ]
     },
     "execution_count": 19,
     "metadata": {},
     "output_type": "execute_result"
    }
   ],
   "source": [
    "import numpy as np\n",
    "a = np.array([[2,0,1],\n",
    "              [2,1,0],\n",
    "              [1,2,2]])\n",
    "choice = np.array([])\n",
    "\n",
    "np.choose(a, [[0, 1, 2], \n",
    "              [10, 11, 12],\n",
    "              [20, 21, 22]])"
   ]
  },
  {
   "cell_type": "markdown",
   "metadata": {},
   "source": [
    "在上面的例子中，a中第一行第一列元素映射为choice中第三行（2）第一列元素，第一行第二列元素映射为choice中第一行（0）第二列元素，映射的是行下标。\n",
    "\n",
    "事实上， choose 不仅仅能接受下标参数，还可以接受下标所在的位置："
   ]
  },
  {
   "cell_type": "code",
   "execution_count": 21,
   "metadata": {},
   "outputs": [
    {
     "data": {
      "text/plain": [
       "array([[10,  1, 10],\n",
       "       [23, 10,  5],\n",
       "       [10, 27, 28]])"
      ]
     },
     "execution_count": 21,
     "metadata": {},
     "output_type": "execute_result"
    }
   ],
   "source": [
    "i0 = np.array([[0,1,2],\n",
    "               [3,4,5],\n",
    "               [6,7,8]])\n",
    "i2 = np.array([[20,21,22],\n",
    "               [23,24,25],\n",
    "               [26,27,28]])\n",
    "a = np.array([[1,0,1],\n",
    "              [2,1,0],\n",
    "              [1,2,2]])\n",
    "\n",
    "np.choose(a, [i0, 10, i2])"
   ]
  },
  {
   "cell_type": "markdown",
   "metadata": {},
   "source": [
    "这里，control 传入第一个 1 对应的是 10，传入的第一个 0 对应于 i0 相应位置的值即 1，剩下的以此类推。\n",
    "\n",
    "下面的例子将数组中所有小于 10 的值变成了 10。"
   ]
  },
  {
   "cell_type": "code",
   "execution_count": 8,
   "metadata": {},
   "outputs": [
    {
     "data": {
      "text/plain": [
       "array([[ True,  True,  True],\n",
       "       [False, False, False],\n",
       "       [False, False, False]])"
      ]
     },
     "execution_count": 8,
     "metadata": {},
     "output_type": "execute_result"
    }
   ],
   "source": [
    "a = np.array([[ 0, 1, 2], \n",
    "              [10,11,12], \n",
    "              [20,21,22]])\n",
    "\n",
    "a < 10"
   ]
  },
  {
   "cell_type": "code",
   "execution_count": 14,
   "metadata": {},
   "outputs": [
    {
     "data": {
      "text/plain": [
       "array([[10, 10, 10],\n",
       "       [10, 11, 12],\n",
       "       [20, 21, 22]])"
      ]
     },
     "execution_count": 14,
     "metadata": {},
     "output_type": "execute_result"
    }
   ],
   "source": [
    "# False(0)对应的是a中相应的元素，True(1)对应的是10\n",
    "np.choose(a < 10, (a, 10))"
   ]
  },
  {
   "cell_type": "markdown",
   "metadata": {},
   "source": [
    "下面的例子将数组中所有小于 10 的值变成了 10，大于 15 的值变成了 15。"
   ]
  },
  {
   "cell_type": "code",
   "execution_count": 13,
   "metadata": {},
   "outputs": [
    {
     "data": {
      "text/plain": [
       "array([[1, 1, 1],\n",
       "       [0, 0, 0],\n",
       "       [2, 2, 2]])"
      ]
     },
     "execution_count": 13,
     "metadata": {},
     "output_type": "execute_result"
    }
   ],
   "source": [
    "a = np.array([[ 0, 1, 2], \n",
    "              [10,11,12], \n",
    "              [20,21,22]])\n",
    "\n",
    "lt = a < 10\n",
    "gt = a > 15\n",
    "\n",
    "choice = lt + 2 * gt\n",
    "choice"
   ]
  },
  {
   "cell_type": "code",
   "execution_count": 15,
   "metadata": {},
   "outputs": [
    {
     "data": {
      "text/plain": [
       "array([[10, 10, 10],\n",
       "       [10, 11, 12],\n",
       "       [15, 15, 15]])"
      ]
     },
     "execution_count": 15,
     "metadata": {},
     "output_type": "execute_result"
    }
   ],
   "source": [
    "np.choose(choice, (a, 10, 15))"
   ]
  }
 ],
 "metadata": {
  "kernelspec": {
   "display_name": "Python 3.9.3 64-bit",
   "language": "python",
   "name": "python3"
  },
  "language_info": {
   "codemirror_mode": {
    "name": "ipython",
    "version": 3
   },
   "file_extension": ".py",
   "mimetype": "text/x-python",
   "name": "python",
   "nbconvert_exporter": "python",
   "pygments_lexer": "ipython3",
   "version": "3.9.3"
  },
  "orig_nbformat": 4,
  "vscode": {
   "interpreter": {
    "hash": "a9fcfdf80f222a2f693b759e6b70f8329ed3ae15944fc27c696bbd5b015a4703"
   }
  }
 },
 "nbformat": 4,
 "nbformat_minor": 2
}
