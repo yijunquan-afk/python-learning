{
 "cells": [
  {
   "cell_type": "markdown",
   "metadata": {},
   "source": [
    "# Python 模块\n",
    "Python 模块(Module)，是一个 Python 文件，以 .py 结尾，包含了 Python 对象定义和Python语句。\n",
    "\n",
    "模块让你能够有逻辑地组织你的 Python 代码段。\n",
    "\n",
    "把相关的代码分配到一个模块里能让你的代码更好用，更易懂。\n",
    "\n",
    "模块能定义函数，类和变量，模块里也能包含可执行的代码。\n",
    "\n",
    "例子：\n",
    "\n",
    "```python\n",
    "def print_test(str):\n",
    "    print(\"hello: \"+str)\n",
    "    return\n",
    "\n",
    "```"
   ]
  },
  {
   "cell_type": "markdown",
   "metadata": {},
   "source": [
    "## import语句\n"
   ]
  }
 ],
 "metadata": {
  "kernelspec": {
   "display_name": "Python 3.9.3 64-bit",
   "language": "python",
   "name": "python3"
  },
  "language_info": {
   "name": "python",
   "version": "3.9.3"
  },
  "orig_nbformat": 4,
  "vscode": {
   "interpreter": {
    "hash": "a9fcfdf80f222a2f693b759e6b70f8329ed3ae15944fc27c696bbd5b015a4703"
   }
  }
 },
 "nbformat": 4,
 "nbformat_minor": 2
}
