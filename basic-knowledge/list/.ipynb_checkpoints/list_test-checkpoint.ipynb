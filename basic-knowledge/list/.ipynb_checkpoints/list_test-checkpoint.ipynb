{
 "cells": [
  {
   "cell_type": "markdown",
   "id": "5904f2cb",
   "metadata": {},
   "source": [
    "# list"
   ]
  },
  {
   "cell_type": "code",
   "execution_count": 1,
   "id": "429201e8",
   "metadata": {},
   "outputs": [
    {
     "name": "stdout",
     "output_type": "stream",
     "text": [
      "list1[0] chinese\n"
     ]
    }
   ],
   "source": [
    "list1=[\"chinese\",\"english\",\"math\"]\n",
    "print(\"list1[0]\",list1[0])"
   ]
  },
  {
   "cell_type": "code",
   "execution_count": 5,
   "id": "61f815d3",
   "metadata": {},
   "outputs": [
    {
     "name": "stdout",
     "output_type": "stream",
     "text": [
      "[1, 2]\n"
     ]
    }
   ],
   "source": [
    "list2=[1,2,3,4,56]\n",
    "print(list2[0:2])"
   ]
  },
  {
   "cell_type": "code",
   "execution_count": null,
   "id": "b9224892",
   "metadata": {},
   "outputs": [],
   "source": []
  }
 ],
 "metadata": {
  "kernelspec": {
   "display_name": "Python 3 (ipykernel)",
   "language": "python",
   "name": "python3"
  },
  "language_info": {
   "codemirror_mode": {
    "name": "ipython",
    "version": 3
   },
   "file_extension": ".py",
   "mimetype": "text/x-python",
   "name": "python",
   "nbconvert_exporter": "python",
   "pygments_lexer": "ipython3",
   "version": "3.9.12"
  },
  "vscode": {
   "interpreter": {
    "hash": "a9fcfdf80f222a2f693b759e6b70f8329ed3ae15944fc27c696bbd5b015a4703"
   }
  }
 },
 "nbformat": 4,
 "nbformat_minor": 5
}
