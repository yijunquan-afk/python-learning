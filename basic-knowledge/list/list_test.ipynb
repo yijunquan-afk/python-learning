{
 "cells": [
  {
   "cell_type": "markdown",
   "id": "5904f2cb",
   "metadata": {},
   "source": [
    "# list"
   ]
  },
  {
   "cell_type": "markdown",
   "id": "74602e9c",
   "metadata": {},
   "source": [
    "## 访问列表中的值"
   ]
  },
  {
   "cell_type": "code",
   "execution_count": 1,
   "id": "429201e8",
   "metadata": {},
   "outputs": [
    {
     "name": "stdout",
     "output_type": "stream",
     "text": [
      "list1[0] chinese\n"
     ]
    }
   ],
   "source": [
    "list1=[\"chinese\",\"english\",\"math\"]\n",
    "print(\"list1[0]\",list1[0])"
   ]
  },
  {
   "cell_type": "code",
   "execution_count": 2,
   "id": "61f815d3",
   "metadata": {},
   "outputs": [
    {
     "name": "stdout",
     "output_type": "stream",
     "text": [
      "[1, 2]\n"
     ]
    }
   ],
   "source": [
    "list2=[1,2,3,4,56]\n",
    "print(list2[0:2])"
   ]
  },
  {
   "cell_type": "markdown",
   "id": "712e719a",
   "metadata": {},
   "source": [
    "## 更新列表"
   ]
  },
  {
   "cell_type": "markdown",
   "id": "783a3034",
   "metadata": {},
   "source": [
    "你可以对列表的数据项进行修改或更新，你也可以使用append()方法来添加列表项，如下所示："
   ]
  },
  {
   "cell_type": "code",
   "execution_count": 3,
   "id": "b9224892",
   "metadata": {},
   "outputs": [
    {
     "name": "stdout",
     "output_type": "stream",
     "text": [
      "['Google', 'Microsoft']\n"
     ]
    }
   ],
   "source": [
    "list =[]\n",
    "list.append(\"Google\")\n",
    "list.append(\"Microsoft\")\n",
    "print(list)"
   ]
  },
  {
   "cell_type": "markdown",
   "id": "40b018d0",
   "metadata": {},
   "source": [
    "## 删除列表元素"
   ]
  },
  {
   "cell_type": "code",
   "execution_count": 4,
   "id": "684d4a9e",
   "metadata": {},
   "outputs": [
    {
     "name": "stdout",
     "output_type": "stream",
     "text": [
      "['i', 'you', 'they']\n"
     ]
    }
   ],
   "source": [
    "list1=[\"i\",\"you\",\"he\",\"they\"]\n",
    "del list1[2]\n",
    "print(list1)"
   ]
  }
 ],
 "metadata": {
  "kernelspec": {
   "display_name": "Python 3.9.12 ('base')",
   "language": "python",
   "name": "python3"
  },
  "language_info": {
   "codemirror_mode": {
    "name": "ipython",
    "version": 3
   },
   "file_extension": ".py",
   "mimetype": "text/x-python",
   "name": "python",
   "nbconvert_exporter": "python",
   "pygments_lexer": "ipython3",
   "version": "3.9.12"
  },
  "vscode": {
   "interpreter": {
    "hash": "5179d32cf6ec497baf3f8a3ef987cc77c5d2dc691fdde20a56316522f61a7323"
   }
  }
 },
 "nbformat": 4,
 "nbformat_minor": 5
}
